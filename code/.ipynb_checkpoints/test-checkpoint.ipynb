{
 "cells": [
  {
   "cell_type": "code",
   "execution_count": 1,
   "metadata": {},
   "outputs": [],
   "source": [
    "import torch\n",
    "import torchvision\n",
    "import cv2\n",
    "import numpy as np\n",
    "from PIL import Image, ImageDraw, ImageFilter\n",
    "device = torch.device('cuda:0' if torch.cuda.is_available() else 'cpu')\n",
    "detection_model.to(device)\n",
    "detection_model = torch.load(\"C:/Users/Amjad Adel/Desktop/pytorch-for-information-extraction/crop_front_idcard_model.pth\")\n",
    "image = Image.open('F:/New folder (2)/FrontIDCard/FirstSide_1_21.jpeg')\n",
    "\n",
    "image_tensor = imgToTensor(image)\n",
    "\n",
    "fig = plt.figure(figsize=(10, 10))\n",
    "ax = fig.add_subplot(1, 1, 1, xticks=[], yticks=[])\n",
    "ax.set_title('Test Image')\n",
    "plt.imshow(image)\n",
    "\n",
    "# put the model in evaluation mode\n",
    "detection_model.eval()\n",
    "with torch.no_grad():\n",
    "    pass\n",
    "    # forward pass the test image to get detection predictions\n",
    "    detection_predictions = detection_model(image_tensor.unsqueeze(0).to(device))\n",
    "print(detection_predictions[0]['labels'].size()[0], 'objects detected !')\n",
    "detection_predictions[0]"
   ]
  },
  {
   "cell_type": "code",
   "execution_count": null,
   "metadata": {},
   "outputs": [],
   "source": []
  }
 ],
 "metadata": {
  "kernelspec": {
   "display_name": "env_GPU",
   "language": "python",
   "name": "python3"
  },
  "language_info": {
   "codemirror_mode": {
    "name": "ipython",
    "version": 3
   },
   "file_extension": ".py",
   "mimetype": "text/x-python",
   "name": "python",
   "nbconvert_exporter": "python",
   "pygments_lexer": "ipython3",
   "version": "3.9.18"
  }
 },
 "nbformat": 4,
 "nbformat_minor": 2
}
